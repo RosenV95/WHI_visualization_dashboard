{
 "cells": [
  {
   "cell_type": "code",
   "execution_count": 1,
   "id": "sustainable-musical",
   "metadata": {},
   "outputs": [],
   "source": [
    "#Import needed libs\n",
    "import dash\n",
    "import dash_bootstrap_components as dbc\n",
    "import dash_core_components as dcc\n",
    "import dash_html_components as html\n",
    "from dash.dependencies import Input, Output\n",
    "import numpy as np\n",
    "import pandas as pd\n",
    "import plotly.express as px"
   ]
  },
  {
   "cell_type": "code",
   "execution_count": 7,
   "id": "noticed-budget",
   "metadata": {},
   "outputs": [],
   "source": [
    "#Import data/cleanup\n",
    "df=pd.read_csv('LadderScoreAllFixed.csv')\n",
    "df.drop('Unnamed: 0', axis=1, inplace=True)"
   ]
  },
  {
   "cell_type": "code",
   "execution_count": 8,
   "id": "instant-nicholas",
   "metadata": {},
   "outputs": [],
   "source": [
    "#Create Relevant Plots\n",
    "fig = px.scatter(df, x='Country name', y='Ladder score 2020', color='Ladder score 2020')"
   ]
  },
  {
   "cell_type": "code",
   "execution_count": 9,
   "id": "interim-young",
   "metadata": {},
   "outputs": [
    {
     "data": {
      "application/vnd.plotly.v1+json": {
       "config": {
        "plotlyServerURL": "https://plot.ly"
       },
       "data": [
        {
         "hovertemplate": "Country name=%{x}<br>Ladder score 2020=%{marker.color}<extra></extra>",
         "legendgroup": "",
         "marker": {
          "color": [
           7.808700085,
           7.645599842,
           7.487999916000001,
           7.504499912000001,
           7.448900223,
           7.559899807000001,
           7.353499889,
           7.299600123999999,
           7.23210001,
           7.294199944,
           7.222799778,
           7.121399879,
           7.128600121,
           7.237500191,
           7.164500237,
           7.093699932000001,
           7.075799942000001,
           6.863500117999999,
           6.939599991000001,
           6.9109001160000005,
           6.790800095,
           6.772799968999999,
           6.465000152999999,
           6.663799762999999,
           6.446149825999999,
           6.228499889,
           6.398900032,
           6.406499863,
           6.403699875,
           6.4008998870000005,
           6.304800033999999,
           6.375599861,
           6.440100192999999,
           6.377099991000001,
           6.34829998,
           6.38740015,
           6.227300167,
           6.280600071,
           6.233449936,
           6.1862998010000005,
           6.257599831,
           6.215499877999999,
           6.163400172999999,
           6.363399982000001,
           6.13710022,
           6.325200081,
           5.974699974,
           6.123700142000001,
           6.15899992,
           5.925199986,
           6.102099895,
           5.9987998010000005,
           5.949999809,
           5.872399807000001,
           6.0218000410000005,
           5.889800072000001,
           6.101299762999999,
           5.870800018,
           5.953199862999999,
           6.0578999520000005,
           5.747499942999999,
           6.000400066,
           5.692100048,
           5.7444500925,
           5.796800137000001,
           5.9109001160000005,
           5.69329977,
           5.546000004,
           6.006000042,
           5.77820015,
           5.607500076,
           5.488800049,
           5.54610014,
           5.555699825,
           5.504700184,
           5.596950054,
           5.689199924,
           5.674099922000001,
           5.131800175,
           5.384300232,
           5.539899826,
           5.514999866,
           5.456200123,
           5.090150118,
           4.724100113,
           5.541500092000001,
           5.119100093999999,
           5.005099773,
           5.094799995,
           5.164800167,
           4.771500111,
           5.285600185,
           5.123899937,
           5.353499889,
           5.2191998955,
           5.084899902,
           5.101500034,
           5.1479997630000005,
           5.233300208999999,
           5.137199879,
           4.6333999630000005,
           5.21600008,
           5.194399834,
           4.829299927,
           4.888599873,
           4.814099789,
           4.882699966000001,
           5.053199768,
           4.8484001160000005,
           4.552800179,
           4.980800152,
           4.7759501935,
           4.571100235,
           4.909599781,
           4.768700123,
           4.676799774,
           4.672399998,
           4.949299812,
           4.672599792,
           4.750599861,
           4.583000183,
           4.374599934,
           4.623600006,
           4.392199993,
           4.832799911,
           4.7848000530000006,
           4.31099987,
           4.729300021999999,
           3.926399946,
           4.327000141,
           4.308000088,
           4.422699928,
           4.56069994,
           4.186200142,
           4.308100224,
           4.43200016,
           4.151400089,
           3.759399891,
           4.187200069,
           3.573299885,
           4.557899952,
           4.288599968,
           4.165599823,
           3.652800083,
           3.775300026,
           3.2992000580000003,
           3.720799923,
           3.478899956,
           3.5084500315,
           3.538000107,
           3.527400017,
           3.312299967,
           3.476200104,
           2.566900015,
           3.475899935,
           2.816600084
          ],
          "coloraxis": "coloraxis",
          "symbol": "circle"
         },
         "mode": "markers",
         "name": "",
         "orientation": "v",
         "showlegend": false,
         "type": "scatter",
         "x": [
          "Finland",
          "Denmark",
          "Norway",
          "Iceland",
          "Netherlands",
          "Switzerland",
          "Sweden",
          "New Zealand",
          "Canada",
          "Austria",
          "Australia",
          "Costa Rica",
          "Israel",
          "Luxembourg",
          "United Kingdom",
          "Ireland",
          "Germany",
          "Belgium",
          "United States",
          "Czech Republic",
          "United Arab Emirates",
          "Malta",
          "Mexico",
          "France",
          "Taiwan",
          "Chile",
          "Guatemala",
          "Saudi Arabia",
          "Qatar",
          "Spain",
          "Panama",
          "Brazil",
          "Uruguay",
          "Singapore",
          "El Salvador",
          "Italy",
          "Bahrain",
          "Slovakia",
          "Trinidad & Tobago",
          "Poland",
          "Uzbekistan",
          "Lithuania",
          "Colombia",
          "Slovenia",
          "Nicaragua",
          "Kosovo",
          "Argentina",
          "Romania",
          "Cyprus",
          "Ecuador",
          "Kuwait",
          "Thailand",
          "Latvia",
          "South Korea",
          "Estonia",
          "Jamaica",
          "Mauritius",
          "Japan",
          "Honduras",
          "Kazakhstan",
          "Bolivia",
          "Hungary",
          "Paraguay",
          "Northern Cyprus",
          "Peru",
          "Portugal",
          "Pakistan",
          "Russia",
          "Philippines",
          "Serbia",
          "Moldova",
          "Libya",
          "Montenegro",
          "Tajikistan",
          "Croatia",
          "Hong Kong",
          "Dominican Republic",
          "Bosnia and Herzegovina",
          "Turkey",
          "Malaysia",
          "Belarus",
          "Greece",
          "Mongolia",
          "North Macedonia",
          "Nigeria",
          "Kyrgyzstan",
          "Turkmenistan",
          "Algeria",
          "Morocco",
          "Azerbaijan",
          "Lebanon",
          "Indonesia",
          "China",
          "Vietnam",
          "Bhutan",
          "Cameroon",
          "Bulgaria",
          "Ghana",
          "Ivory Coast",
          "Nepal",
          "Jordan",
          "Benin",
          "Congo (Brazzaville)",
          "Gabon",
          "Laos",
          "South Africa",
          "Albania",
          "Venezuela",
          "Cambodia",
          "Palestinian Territories",
          "Senegal",
          "Somalia",
          "Namibia",
          "Niger",
          "Burkina Faso",
          "Armenia",
          "Iran",
          "Guinea",
          "Georgia",
          "Gambia",
          "Kenya",
          "Mauritania",
          "Mozambique",
          "Tunisia",
          "Bangladesh",
          "Iraq",
          "Congo (Kinshasa)",
          "Mali",
          "Sierra Leone",
          "Sri Lanka",
          "Myanmar",
          "Chad",
          "Ukraine",
          "Ethiopia",
          "Swaziland",
          "Uganda",
          "Egypt",
          "Zambia",
          "Togo",
          "India",
          "Liberia",
          "Comoros",
          "Madagascar",
          "Lesotho",
          "Burundi",
          "Zimbabwe",
          "Haiti",
          "Botswana",
          "Syria",
          "Malawi",
          "Yemen",
          "Rwanda",
          "Tanzania",
          "Afghanistan",
          "Central African Republic",
          "South Sudan"
         ],
         "xaxis": "x",
         "y": [
          7.808700085,
          7.645599842,
          7.487999916000001,
          7.504499912000001,
          7.448900223,
          7.559899807000001,
          7.353499889,
          7.299600123999999,
          7.23210001,
          7.294199944,
          7.222799778,
          7.121399879,
          7.128600121,
          7.237500191,
          7.164500237,
          7.093699932000001,
          7.075799942000001,
          6.863500117999999,
          6.939599991000001,
          6.9109001160000005,
          6.790800095,
          6.772799968999999,
          6.465000152999999,
          6.663799762999999,
          6.446149825999999,
          6.228499889,
          6.398900032,
          6.406499863,
          6.403699875,
          6.4008998870000005,
          6.304800033999999,
          6.375599861,
          6.440100192999999,
          6.377099991000001,
          6.34829998,
          6.38740015,
          6.227300167,
          6.280600071,
          6.233449936,
          6.1862998010000005,
          6.257599831,
          6.215499877999999,
          6.163400172999999,
          6.363399982000001,
          6.13710022,
          6.325200081,
          5.974699974,
          6.123700142000001,
          6.15899992,
          5.925199986,
          6.102099895,
          5.9987998010000005,
          5.949999809,
          5.872399807000001,
          6.0218000410000005,
          5.889800072000001,
          6.101299762999999,
          5.870800018,
          5.953199862999999,
          6.0578999520000005,
          5.747499942999999,
          6.000400066,
          5.692100048,
          5.7444500925,
          5.796800137000001,
          5.9109001160000005,
          5.69329977,
          5.546000004,
          6.006000042,
          5.77820015,
          5.607500076,
          5.488800049,
          5.54610014,
          5.555699825,
          5.504700184,
          5.596950054,
          5.689199924,
          5.674099922000001,
          5.131800175,
          5.384300232,
          5.539899826,
          5.514999866,
          5.456200123,
          5.090150118,
          4.724100113,
          5.541500092000001,
          5.119100093999999,
          5.005099773,
          5.094799995,
          5.164800167,
          4.771500111,
          5.285600185,
          5.123899937,
          5.353499889,
          5.2191998955,
          5.084899902,
          5.101500034,
          5.1479997630000005,
          5.233300208999999,
          5.137199879,
          4.6333999630000005,
          5.21600008,
          5.194399834,
          4.829299927,
          4.888599873,
          4.814099789,
          4.882699966000001,
          5.053199768,
          4.8484001160000005,
          4.552800179,
          4.980800152,
          4.7759501935,
          4.571100235,
          4.909599781,
          4.768700123,
          4.676799774,
          4.672399998,
          4.949299812,
          4.672599792,
          4.750599861,
          4.583000183,
          4.374599934,
          4.623600006,
          4.392199993,
          4.832799911,
          4.7848000530000006,
          4.31099987,
          4.729300021999999,
          3.926399946,
          4.327000141,
          4.308000088,
          4.422699928,
          4.56069994,
          4.186200142,
          4.308100224,
          4.43200016,
          4.151400089,
          3.759399891,
          4.187200069,
          3.573299885,
          4.557899952,
          4.288599968,
          4.165599823,
          3.652800083,
          3.775300026,
          3.2992000580000003,
          3.720799923,
          3.478899956,
          3.5084500315,
          3.538000107,
          3.527400017,
          3.312299967,
          3.476200104,
          2.566900015,
          3.475899935,
          2.816600084
         ],
         "yaxis": "y"
        }
       ],
       "layout": {
        "autosize": true,
        "coloraxis": {
         "colorbar": {
          "title": {
           "text": "Ladder score 2020"
          }
         },
         "colorscale": [
          [
           0,
           "#0d0887"
          ],
          [
           0.1111111111111111,
           "#46039f"
          ],
          [
           0.2222222222222222,
           "#7201a8"
          ],
          [
           0.3333333333333333,
           "#9c179e"
          ],
          [
           0.4444444444444444,
           "#bd3786"
          ],
          [
           0.5555555555555556,
           "#d8576b"
          ],
          [
           0.6666666666666666,
           "#ed7953"
          ],
          [
           0.7777777777777778,
           "#fb9f3a"
          ],
          [
           0.8888888888888888,
           "#fdca26"
          ],
          [
           1,
           "#f0f921"
          ]
         ]
        },
        "legend": {
         "tracegroupgap": 0
        },
        "margin": {
         "t": 60
        },
        "template": {
         "data": {
          "bar": [
           {
            "error_x": {
             "color": "#2a3f5f"
            },
            "error_y": {
             "color": "#2a3f5f"
            },
            "marker": {
             "line": {
              "color": "#E5ECF6",
              "width": 0.5
             }
            },
            "type": "bar"
           }
          ],
          "barpolar": [
           {
            "marker": {
             "line": {
              "color": "#E5ECF6",
              "width": 0.5
             }
            },
            "type": "barpolar"
           }
          ],
          "carpet": [
           {
            "aaxis": {
             "endlinecolor": "#2a3f5f",
             "gridcolor": "white",
             "linecolor": "white",
             "minorgridcolor": "white",
             "startlinecolor": "#2a3f5f"
            },
            "baxis": {
             "endlinecolor": "#2a3f5f",
             "gridcolor": "white",
             "linecolor": "white",
             "minorgridcolor": "white",
             "startlinecolor": "#2a3f5f"
            },
            "type": "carpet"
           }
          ],
          "choropleth": [
           {
            "colorbar": {
             "outlinewidth": 0,
             "ticks": ""
            },
            "type": "choropleth"
           }
          ],
          "contour": [
           {
            "colorbar": {
             "outlinewidth": 0,
             "ticks": ""
            },
            "colorscale": [
             [
              0,
              "#0d0887"
             ],
             [
              0.1111111111111111,
              "#46039f"
             ],
             [
              0.2222222222222222,
              "#7201a8"
             ],
             [
              0.3333333333333333,
              "#9c179e"
             ],
             [
              0.4444444444444444,
              "#bd3786"
             ],
             [
              0.5555555555555556,
              "#d8576b"
             ],
             [
              0.6666666666666666,
              "#ed7953"
             ],
             [
              0.7777777777777778,
              "#fb9f3a"
             ],
             [
              0.8888888888888888,
              "#fdca26"
             ],
             [
              1,
              "#f0f921"
             ]
            ],
            "type": "contour"
           }
          ],
          "contourcarpet": [
           {
            "colorbar": {
             "outlinewidth": 0,
             "ticks": ""
            },
            "type": "contourcarpet"
           }
          ],
          "heatmap": [
           {
            "colorbar": {
             "outlinewidth": 0,
             "ticks": ""
            },
            "colorscale": [
             [
              0,
              "#0d0887"
             ],
             [
              0.1111111111111111,
              "#46039f"
             ],
             [
              0.2222222222222222,
              "#7201a8"
             ],
             [
              0.3333333333333333,
              "#9c179e"
             ],
             [
              0.4444444444444444,
              "#bd3786"
             ],
             [
              0.5555555555555556,
              "#d8576b"
             ],
             [
              0.6666666666666666,
              "#ed7953"
             ],
             [
              0.7777777777777778,
              "#fb9f3a"
             ],
             [
              0.8888888888888888,
              "#fdca26"
             ],
             [
              1,
              "#f0f921"
             ]
            ],
            "type": "heatmap"
           }
          ],
          "heatmapgl": [
           {
            "colorbar": {
             "outlinewidth": 0,
             "ticks": ""
            },
            "colorscale": [
             [
              0,
              "#0d0887"
             ],
             [
              0.1111111111111111,
              "#46039f"
             ],
             [
              0.2222222222222222,
              "#7201a8"
             ],
             [
              0.3333333333333333,
              "#9c179e"
             ],
             [
              0.4444444444444444,
              "#bd3786"
             ],
             [
              0.5555555555555556,
              "#d8576b"
             ],
             [
              0.6666666666666666,
              "#ed7953"
             ],
             [
              0.7777777777777778,
              "#fb9f3a"
             ],
             [
              0.8888888888888888,
              "#fdca26"
             ],
             [
              1,
              "#f0f921"
             ]
            ],
            "type": "heatmapgl"
           }
          ],
          "histogram": [
           {
            "marker": {
             "colorbar": {
              "outlinewidth": 0,
              "ticks": ""
             }
            },
            "type": "histogram"
           }
          ],
          "histogram2d": [
           {
            "colorbar": {
             "outlinewidth": 0,
             "ticks": ""
            },
            "colorscale": [
             [
              0,
              "#0d0887"
             ],
             [
              0.1111111111111111,
              "#46039f"
             ],
             [
              0.2222222222222222,
              "#7201a8"
             ],
             [
              0.3333333333333333,
              "#9c179e"
             ],
             [
              0.4444444444444444,
              "#bd3786"
             ],
             [
              0.5555555555555556,
              "#d8576b"
             ],
             [
              0.6666666666666666,
              "#ed7953"
             ],
             [
              0.7777777777777778,
              "#fb9f3a"
             ],
             [
              0.8888888888888888,
              "#fdca26"
             ],
             [
              1,
              "#f0f921"
             ]
            ],
            "type": "histogram2d"
           }
          ],
          "histogram2dcontour": [
           {
            "colorbar": {
             "outlinewidth": 0,
             "ticks": ""
            },
            "colorscale": [
             [
              0,
              "#0d0887"
             ],
             [
              0.1111111111111111,
              "#46039f"
             ],
             [
              0.2222222222222222,
              "#7201a8"
             ],
             [
              0.3333333333333333,
              "#9c179e"
             ],
             [
              0.4444444444444444,
              "#bd3786"
             ],
             [
              0.5555555555555556,
              "#d8576b"
             ],
             [
              0.6666666666666666,
              "#ed7953"
             ],
             [
              0.7777777777777778,
              "#fb9f3a"
             ],
             [
              0.8888888888888888,
              "#fdca26"
             ],
             [
              1,
              "#f0f921"
             ]
            ],
            "type": "histogram2dcontour"
           }
          ],
          "mesh3d": [
           {
            "colorbar": {
             "outlinewidth": 0,
             "ticks": ""
            },
            "type": "mesh3d"
           }
          ],
          "parcoords": [
           {
            "line": {
             "colorbar": {
              "outlinewidth": 0,
              "ticks": ""
             }
            },
            "type": "parcoords"
           }
          ],
          "pie": [
           {
            "automargin": true,
            "type": "pie"
           }
          ],
          "scatter": [
           {
            "marker": {
             "colorbar": {
              "outlinewidth": 0,
              "ticks": ""
             }
            },
            "type": "scatter"
           }
          ],
          "scatter3d": [
           {
            "line": {
             "colorbar": {
              "outlinewidth": 0,
              "ticks": ""
             }
            },
            "marker": {
             "colorbar": {
              "outlinewidth": 0,
              "ticks": ""
             }
            },
            "type": "scatter3d"
           }
          ],
          "scattercarpet": [
           {
            "marker": {
             "colorbar": {
              "outlinewidth": 0,
              "ticks": ""
             }
            },
            "type": "scattercarpet"
           }
          ],
          "scattergeo": [
           {
            "marker": {
             "colorbar": {
              "outlinewidth": 0,
              "ticks": ""
             }
            },
            "type": "scattergeo"
           }
          ],
          "scattergl": [
           {
            "marker": {
             "colorbar": {
              "outlinewidth": 0,
              "ticks": ""
             }
            },
            "type": "scattergl"
           }
          ],
          "scattermapbox": [
           {
            "marker": {
             "colorbar": {
              "outlinewidth": 0,
              "ticks": ""
             }
            },
            "type": "scattermapbox"
           }
          ],
          "scatterpolar": [
           {
            "marker": {
             "colorbar": {
              "outlinewidth": 0,
              "ticks": ""
             }
            },
            "type": "scatterpolar"
           }
          ],
          "scatterpolargl": [
           {
            "marker": {
             "colorbar": {
              "outlinewidth": 0,
              "ticks": ""
             }
            },
            "type": "scatterpolargl"
           }
          ],
          "scatterternary": [
           {
            "marker": {
             "colorbar": {
              "outlinewidth": 0,
              "ticks": ""
             }
            },
            "type": "scatterternary"
           }
          ],
          "surface": [
           {
            "colorbar": {
             "outlinewidth": 0,
             "ticks": ""
            },
            "colorscale": [
             [
              0,
              "#0d0887"
             ],
             [
              0.1111111111111111,
              "#46039f"
             ],
             [
              0.2222222222222222,
              "#7201a8"
             ],
             [
              0.3333333333333333,
              "#9c179e"
             ],
             [
              0.4444444444444444,
              "#bd3786"
             ],
             [
              0.5555555555555556,
              "#d8576b"
             ],
             [
              0.6666666666666666,
              "#ed7953"
             ],
             [
              0.7777777777777778,
              "#fb9f3a"
             ],
             [
              0.8888888888888888,
              "#fdca26"
             ],
             [
              1,
              "#f0f921"
             ]
            ],
            "type": "surface"
           }
          ],
          "table": [
           {
            "cells": {
             "fill": {
              "color": "#EBF0F8"
             },
             "line": {
              "color": "white"
             }
            },
            "header": {
             "fill": {
              "color": "#C8D4E3"
             },
             "line": {
              "color": "white"
             }
            },
            "type": "table"
           }
          ]
         },
         "layout": {
          "annotationdefaults": {
           "arrowcolor": "#2a3f5f",
           "arrowhead": 0,
           "arrowwidth": 1
          },
          "autotypenumbers": "strict",
          "coloraxis": {
           "colorbar": {
            "outlinewidth": 0,
            "ticks": ""
           }
          },
          "colorscale": {
           "diverging": [
            [
             0,
             "#8e0152"
            ],
            [
             0.1,
             "#c51b7d"
            ],
            [
             0.2,
             "#de77ae"
            ],
            [
             0.3,
             "#f1b6da"
            ],
            [
             0.4,
             "#fde0ef"
            ],
            [
             0.5,
             "#f7f7f7"
            ],
            [
             0.6,
             "#e6f5d0"
            ],
            [
             0.7,
             "#b8e186"
            ],
            [
             0.8,
             "#7fbc41"
            ],
            [
             0.9,
             "#4d9221"
            ],
            [
             1,
             "#276419"
            ]
           ],
           "sequential": [
            [
             0,
             "#0d0887"
            ],
            [
             0.1111111111111111,
             "#46039f"
            ],
            [
             0.2222222222222222,
             "#7201a8"
            ],
            [
             0.3333333333333333,
             "#9c179e"
            ],
            [
             0.4444444444444444,
             "#bd3786"
            ],
            [
             0.5555555555555556,
             "#d8576b"
            ],
            [
             0.6666666666666666,
             "#ed7953"
            ],
            [
             0.7777777777777778,
             "#fb9f3a"
            ],
            [
             0.8888888888888888,
             "#fdca26"
            ],
            [
             1,
             "#f0f921"
            ]
           ],
           "sequentialminus": [
            [
             0,
             "#0d0887"
            ],
            [
             0.1111111111111111,
             "#46039f"
            ],
            [
             0.2222222222222222,
             "#7201a8"
            ],
            [
             0.3333333333333333,
             "#9c179e"
            ],
            [
             0.4444444444444444,
             "#bd3786"
            ],
            [
             0.5555555555555556,
             "#d8576b"
            ],
            [
             0.6666666666666666,
             "#ed7953"
            ],
            [
             0.7777777777777778,
             "#fb9f3a"
            ],
            [
             0.8888888888888888,
             "#fdca26"
            ],
            [
             1,
             "#f0f921"
            ]
           ]
          },
          "colorway": [
           "#636efa",
           "#EF553B",
           "#00cc96",
           "#ab63fa",
           "#FFA15A",
           "#19d3f3",
           "#FF6692",
           "#B6E880",
           "#FF97FF",
           "#FECB52"
          ],
          "font": {
           "color": "#2a3f5f"
          },
          "geo": {
           "bgcolor": "white",
           "lakecolor": "white",
           "landcolor": "#E5ECF6",
           "showlakes": true,
           "showland": true,
           "subunitcolor": "white"
          },
          "hoverlabel": {
           "align": "left"
          },
          "hovermode": "closest",
          "mapbox": {
           "style": "light"
          },
          "paper_bgcolor": "white",
          "plot_bgcolor": "#E5ECF6",
          "polar": {
           "angularaxis": {
            "gridcolor": "white",
            "linecolor": "white",
            "ticks": ""
           },
           "bgcolor": "#E5ECF6",
           "radialaxis": {
            "gridcolor": "white",
            "linecolor": "white",
            "ticks": ""
           }
          },
          "scene": {
           "xaxis": {
            "backgroundcolor": "#E5ECF6",
            "gridcolor": "white",
            "gridwidth": 2,
            "linecolor": "white",
            "showbackground": true,
            "ticks": "",
            "zerolinecolor": "white"
           },
           "yaxis": {
            "backgroundcolor": "#E5ECF6",
            "gridcolor": "white",
            "gridwidth": 2,
            "linecolor": "white",
            "showbackground": true,
            "ticks": "",
            "zerolinecolor": "white"
           },
           "zaxis": {
            "backgroundcolor": "#E5ECF6",
            "gridcolor": "white",
            "gridwidth": 2,
            "linecolor": "white",
            "showbackground": true,
            "ticks": "",
            "zerolinecolor": "white"
           }
          },
          "shapedefaults": {
           "line": {
            "color": "#2a3f5f"
           }
          },
          "ternary": {
           "aaxis": {
            "gridcolor": "white",
            "linecolor": "white",
            "ticks": ""
           },
           "baxis": {
            "gridcolor": "white",
            "linecolor": "white",
            "ticks": ""
           },
           "bgcolor": "#E5ECF6",
           "caxis": {
            "gridcolor": "white",
            "linecolor": "white",
            "ticks": ""
           }
          },
          "title": {
           "x": 0.05
          },
          "xaxis": {
           "automargin": true,
           "gridcolor": "white",
           "linecolor": "white",
           "ticks": "",
           "title": {
            "standoff": 15
           },
           "zerolinecolor": "white",
           "zerolinewidth": 2
          },
          "yaxis": {
           "automargin": true,
           "gridcolor": "white",
           "linecolor": "white",
           "ticks": "",
           "title": {
            "standoff": 15
           },
           "zerolinecolor": "white",
           "zerolinewidth": 2
          }
         }
        },
        "xaxis": {
         "anchor": "y",
         "autorange": true,
         "domain": [
          0,
          1
         ],
         "range": [
          -9.195628563670923,
          164.19562856367094
         ],
         "title": {
          "text": "Country name"
         },
         "type": "category"
        },
        "yaxis": {
         "anchor": "x",
         "autorange": true,
         "domain": [
          0,
          1
         ],
         "range": [
          2.1713869247134667,
          8.204213175286533
         ],
         "title": {
          "text": "Ladder score 2020"
         },
         "type": "linear"
        }
       }
      },
      "image/png": "[encoded data removed]",
      "text/html": [
       "<div>                            <div id=\"81e356da-a80c-4ed8-adb4-721a9ccfb037\" class=\"plotly-graph-div\" style=\"height:525px; width:100%;\"></div>            <script type=\"text/javascript\">                require([\"plotly\"], function(Plotly) {                    window.PLOTLYENV=window.PLOTLYENV || {};                                    if (document.getElementById(\"81e356da-a80c-4ed8-adb4-721a9ccfb037\")) {                    Plotly.newPlot(                        \"81e356da-a80c-4ed8-adb4-721a9ccfb037\",                        [{\"hovertemplate\": \"Country name=%{x}<br>Ladder score 2020=%{marker.color}<extra></extra>\", \"legendgroup\": \"\", \"marker\": {\"color\": [7.808700085, 7.645599842, 7.487999916000001, 7.504499912000001, 7.448900223, 7.559899807000001, 7.353499889, 7.299600123999999, 7.23210001, 7.294199944, 7.222799778, 7.121399879, 7.128600121, 7.237500191, 7.164500237, 7.093699932000001, 7.075799942000001, 6.863500117999999, 6.939599991000001, 6.9109001160000005, 6.790800095, 6.772799968999999, 6.465000152999999, 6.663799762999999, 6.446149825999999, 6.228499889, 6.398900032, 6.406499863, 6.403699875, 6.4008998870000005, 6.304800033999999, 6.375599861, 6.440100192999999, 6.377099991000001, 6.34829998, 6.38740015, 6.227300167, 6.280600071, 6.233449936, 6.1862998010000005, 6.257599831, 6.215499877999999, 6.163400172999999, 6.363399982000001, 6.13710022, 6.325200081, 5.974699974, 6.123700142000001, 6.15899992, 5.925199986, 6.102099895, 5.9987998010000005, 5.949999809, 5.872399807000001, 6.0218000410000005, 5.889800072000001, 6.101299762999999, 5.870800018, 5.953199862999999, 6.0578999520000005, 5.747499942999999, 6.000400066, 5.692100048, 5.7444500925, 5.796800137000001, 5.9109001160000005, 5.69329977, 5.546000004, 6.006000042, 5.77820015, 5.607500076, 5.488800049, 5.54610014, 5.555699825, 5.504700184, 5.596950054, 5.689199924, 5.674099922000001, 5.131800175, 5.384300232, 5.539899826, 5.514999866, 5.456200123, 5.090150118, 4.724100113, 5.541500092000001, 5.119100093999999, 5.005099773, 5.094799995, 5.164800167, 4.771500111, 5.285600185, 5.123899937, 5.353499889, 5.2191998955, 5.084899902, 5.101500034, 5.1479997630000005, 5.233300208999999, 5.137199879, 4.6333999630000005, 5.21600008, 5.194399834, 4.829299927, 4.888599873, 4.814099789, 4.882699966000001, 5.053199768, 4.8484001160000005, 4.552800179, 4.980800152, 4.7759501935, 4.571100235, 4.909599781, 4.768700123, 4.676799774, 4.672399998, 4.949299812, 4.672599792, 4.750599861, 4.583000183, 4.374599934, 4.623600006, 4.392199993, 4.832799911, 4.7848000530000006, 4.31099987, 4.729300021999999, 3.926399946, 4.327000141, 4.308000088, 4.422699928, 4.56069994, 4.186200142, 4.308100224, 4.43200016, 4.151400089, 3.759399891, 4.187200069, 3.573299885, 4.557899952, 4.288599968, 4.165599823, 3.652800083, 3.775300026, 3.2992000580000003, 3.720799923, 3.478899956, 3.5084500315, 3.538000107, 3.527400017, 3.312299967, 3.476200104, 2.566900015, 3.475899935, 2.816600084], \"coloraxis\": \"coloraxis\", \"symbol\": \"circle\"}, \"mode\": \"markers\", \"name\": \"\", \"orientation\": \"v\", \"showlegend\": false, \"type\": \"scatter\", \"x\": [\"Finland\", \"Denmark\", \"Norway\", \"Iceland\", \"Netherlands\", \"Switzerland\", \"Sweden\", \"New Zealand\", \"Canada\", \"Austria\", \"Australia\", \"Costa Rica\", \"Israel\", \"Luxembourg\", \"United Kingdom\", \"Ireland\", \"Germany\", \"Belgium\", \"United States\", \"Czech Republic\", \"United Arab Emirates\", \"Malta\", \"Mexico\", \"France\", \"Taiwan\", \"Chile\", \"Guatemala\", \"Saudi Arabia\", \"Qatar\", \"Spain\", \"Panama\", \"Brazil\", \"Uruguay\", \"Singapore\", \"El Salvador\", \"Italy\", \"Bahrain\", \"Slovakia\", \"Trinidad & Tobago\", \"Poland\", \"Uzbekistan\", \"Lithuania\", \"Colombia\", \"Slovenia\", \"Nicaragua\", \"Kosovo\", \"Argentina\", \"Romania\", \"Cyprus\", \"Ecuador\", \"Kuwait\", \"Thailand\", \"Latvia\", \"South Korea\", \"Estonia\", \"Jamaica\", \"Mauritius\", \"Japan\", \"Honduras\", \"Kazakhstan\", \"Bolivia\", \"Hungary\", \"Paraguay\", \"Northern Cyprus\", \"Peru\", \"Portugal\", \"Pakistan\", \"Russia\", \"Philippines\", \"Serbia\", \"Moldova\", \"Libya\", \"Montenegro\", \"Tajikistan\", \"Croatia\", \"Hong Kong\", \"Dominican Republic\", \"Bosnia and Herzegovina\", \"Turkey\", \"Malaysia\", \"Belarus\", \"Greece\", \"Mongolia\", \"North Macedonia\", \"Nigeria\", \"Kyrgyzstan\", \"Turkmenistan\", \"Algeria\", \"Morocco\", \"Azerbaijan\", \"Lebanon\", \"Indonesia\", \"China\", \"Vietnam\", \"Bhutan\", \"Cameroon\", \"Bulgaria\", \"Ghana\", \"Ivory Coast\", \"Nepal\", \"Jordan\", \"Benin\", \"Congo (Brazzaville)\", \"Gabon\", \"Laos\", \"South Africa\", \"Albania\", \"Venezuela\", \"Cambodia\", \"Palestinian Territories\", \"Senegal\", \"Somalia\", \"Namibia\", \"Niger\", \"Burkina Faso\", \"Armenia\", \"Iran\", \"Guinea\", \"Georgia\", \"Gambia\", \"Kenya\", \"Mauritania\", \"Mozambique\", \"Tunisia\", \"Bangladesh\", \"Iraq\", \"Congo (Kinshasa)\", \"Mali\", \"Sierra Leone\", \"Sri Lanka\", \"Myanmar\", \"Chad\", \"Ukraine\", \"Ethiopia\", \"Swaziland\", \"Uganda\", \"Egypt\", \"Zambia\", \"Togo\", \"India\", \"Liberia\", \"Comoros\", \"Madagascar\", \"Lesotho\", \"Burundi\", \"Zimbabwe\", \"Haiti\", \"Botswana\", \"Syria\", \"Malawi\", \"Yemen\", \"Rwanda\", \"Tanzania\", \"Afghanistan\", \"Central African Republic\", \"South Sudan\"], \"xaxis\": \"x\", \"y\": [7.808700085, 7.645599842, 7.487999916000001, 7.504499912000001, 7.448900223, 7.559899807000001, 7.353499889, 7.299600123999999, 7.23210001, 7.294199944, 7.222799778, 7.121399879, 7.128600121, 7.237500191, 7.164500237, 7.093699932000001, 7.075799942000001, 6.863500117999999, 6.939599991000001, 6.9109001160000005, 6.790800095, 6.772799968999999, 6.465000152999999, 6.663799762999999, 6.446149825999999, 6.228499889, 6.398900032, 6.406499863, 6.403699875, 6.4008998870000005, 6.304800033999999, 6.375599861, 6.440100192999999, 6.377099991000001, 6.34829998, 6.38740015, 6.227300167, 6.280600071, 6.233449936, 6.1862998010000005, 6.257599831, 6.215499877999999, 6.163400172999999, 6.363399982000001, 6.13710022, 6.325200081, 5.974699974, 6.123700142000001, 6.15899992, 5.925199986, 6.102099895, 5.9987998010000005, 5.949999809, 5.872399807000001, 6.0218000410000005, 5.889800072000001, 6.101299762999999, 5.870800018, 5.953199862999999, 6.0578999520000005, 5.747499942999999, 6.000400066, 5.692100048, 5.7444500925, 5.796800137000001, 5.9109001160000005, 5.69329977, 5.546000004, 6.006000042, 5.77820015, 5.607500076, 5.488800049, 5.54610014, 5.555699825, 5.504700184, 5.596950054, 5.689199924, 5.674099922000001, 5.131800175, 5.384300232, 5.539899826, 5.514999866, 5.456200123, 5.090150118, 4.724100113, 5.541500092000001, 5.119100093999999, 5.005099773, 5.094799995, 5.164800167, 4.771500111, 5.285600185, 5.123899937, 5.353499889, 5.2191998955, 5.084899902, 5.101500034, 5.1479997630000005, 5.233300208999999, 5.137199879, 4.6333999630000005, 5.21600008, 5.194399834, 4.829299927, 4.888599873, 4.814099789, 4.882699966000001, 5.053199768, 4.8484001160000005, 4.552800179, 4.980800152, 4.7759501935, 4.571100235, 4.909599781, 4.768700123, 4.676799774, 4.672399998, 4.949299812, 4.672599792, 4.750599861, 4.583000183, 4.374599934, 4.623600006, 4.392199993, 4.832799911, 4.7848000530000006, 4.31099987, 4.729300021999999, 3.926399946, 4.327000141, 4.308000088, 4.422699928, 4.56069994, 4.186200142, 4.308100224, 4.43200016, 4.151400089, 3.759399891, 4.187200069, 3.573299885, 4.557899952, 4.288599968, 4.165599823, 3.652800083, 3.775300026, 3.2992000580000003, 3.720799923, 3.478899956, 3.5084500315, 3.538000107, 3.527400017, 3.312299967, 3.476200104, 2.566900015, 3.475899935, 2.816600084], \"yaxis\": \"y\"}],                        {\"coloraxis\": {\"colorbar\": {\"title\": {\"text\": \"Ladder score 2020\"}}, \"colorscale\": [[0.0, \"#0d0887\"], [0.1111111111111111, \"#46039f\"], [0.2222222222222222, \"#7201a8\"], [0.3333333333333333, \"#9c179e\"], [0.4444444444444444, \"#bd3786\"], [0.5555555555555556, \"#d8576b\"], [0.6666666666666666, \"#ed7953\"], [0.7777777777777778, \"#fb9f3a\"], [0.8888888888888888, \"#fdca26\"], [1.0, \"#f0f921\"]]}, \"legend\": {\"tracegroupgap\": 0}, \"margin\": {\"t\": 60}, \"template\": {\"data\": {\"bar\": [{\"error_x\": {\"color\": \"#2a3f5f\"}, \"error_y\": {\"color\": \"#2a3f5f\"}, \"marker\": {\"line\": {\"color\": \"#E5ECF6\", \"width\": 0.5}}, \"type\": \"bar\"}], \"barpolar\": [{\"marker\": {\"line\": {\"color\": \"#E5ECF6\", \"width\": 0.5}}, \"type\": \"barpolar\"}], \"carpet\": [{\"aaxis\": {\"endlinecolor\": \"#2a3f5f\", \"gridcolor\": \"white\", \"linecolor\": \"white\", \"minorgridcolor\": \"white\", \"startlinecolor\": \"#2a3f5f\"}, \"baxis\": {\"endlinecolor\": \"#2a3f5f\", \"gridcolor\": \"white\", \"linecolor\": \"white\", \"minorgridcolor\": \"white\", \"startlinecolor\": \"#2a3f5f\"}, \"type\": \"carpet\"}], \"choropleth\": [{\"colorbar\": {\"outlinewidth\": 0, \"ticks\": \"\"}, \"type\": \"choropleth\"}], \"contour\": [{\"colorbar\": {\"outlinewidth\": 0, \"ticks\": \"\"}, \"colorscale\": [[0.0, \"#0d0887\"], [0.1111111111111111, \"#46039f\"], [0.2222222222222222, \"#7201a8\"], [0.3333333333333333, \"#9c179e\"], [0.4444444444444444, \"#bd3786\"], [0.5555555555555556, \"#d8576b\"], [0.6666666666666666, \"#ed7953\"], [0.7777777777777778, \"#fb9f3a\"], [0.8888888888888888, \"#fdca26\"], [1.0, \"#f0f921\"]], \"type\": \"contour\"}], \"contourcarpet\": [{\"colorbar\": {\"outlinewidth\": 0, \"ticks\": \"\"}, \"type\": \"contourcarpet\"}], \"heatmap\": [{\"colorbar\": {\"outlinewidth\": 0, \"ticks\": \"\"}, \"colorscale\": [[0.0, \"#0d0887\"], [0.1111111111111111, \"#46039f\"], [0.2222222222222222, \"#7201a8\"], [0.3333333333333333, \"#9c179e\"], [0.4444444444444444, \"#bd3786\"], [0.5555555555555556, \"#d8576b\"], [0.6666666666666666, \"#ed7953\"], [0.7777777777777778, \"#fb9f3a\"], [0.8888888888888888, \"#fdca26\"], [1.0, \"#f0f921\"]], \"type\": \"heatmap\"}], \"heatmapgl\": [{\"colorbar\": {\"outlinewidth\": 0, \"ticks\": \"\"}, \"colorscale\": [[0.0, \"#0d0887\"], [0.1111111111111111, \"#46039f\"], [0.2222222222222222, \"#7201a8\"], [0.3333333333333333, \"#9c179e\"], [0.4444444444444444, \"#bd3786\"], [0.5555555555555556, \"#d8576b\"], [0.6666666666666666, \"#ed7953\"], [0.7777777777777778, \"#fb9f3a\"], [0.8888888888888888, \"#fdca26\"], [1.0, \"#f0f921\"]], \"type\": \"heatmapgl\"}], \"histogram\": [{\"marker\": {\"colorbar\": {\"outlinewidth\": 0, \"ticks\": \"\"}}, \"type\": \"histogram\"}], \"histogram2d\": [{\"colorbar\": {\"outlinewidth\": 0, \"ticks\": \"\"}, \"colorscale\": [[0.0, \"#0d0887\"], [0.1111111111111111, \"#46039f\"], [0.2222222222222222, \"#7201a8\"], [0.3333333333333333, \"#9c179e\"], [0.4444444444444444, \"#bd3786\"], [0.5555555555555556, \"#d8576b\"], [0.6666666666666666, \"#ed7953\"], [0.7777777777777778, \"#fb9f3a\"], [0.8888888888888888, \"#fdca26\"], [1.0, \"#f0f921\"]], \"type\": \"histogram2d\"}], \"histogram2dcontour\": [{\"colorbar\": {\"outlinewidth\": 0, \"ticks\": \"\"}, \"colorscale\": [[0.0, \"#0d0887\"], [0.1111111111111111, \"#46039f\"], [0.2222222222222222, \"#7201a8\"], [0.3333333333333333, \"#9c179e\"], [0.4444444444444444, \"#bd3786\"], [0.5555555555555556, \"#d8576b\"], [0.6666666666666666, \"#ed7953\"], [0.7777777777777778, \"#fb9f3a\"], [0.8888888888888888, \"#fdca26\"], [1.0, \"#f0f921\"]], \"type\": \"histogram2dcontour\"}], \"mesh3d\": [{\"colorbar\": {\"outlinewidth\": 0, \"ticks\": \"\"}, \"type\": \"mesh3d\"}], \"parcoords\": [{\"line\": {\"colorbar\": {\"outlinewidth\": 0, \"ticks\": \"\"}}, \"type\": \"parcoords\"}], \"pie\": [{\"automargin\": true, \"type\": \"pie\"}], \"scatter\": [{\"marker\": {\"colorbar\": {\"outlinewidth\": 0, \"ticks\": \"\"}}, \"type\": \"scatter\"}], \"scatter3d\": [{\"line\": {\"colorbar\": {\"outlinewidth\": 0, \"ticks\": \"\"}}, \"marker\": {\"colorbar\": {\"outlinewidth\": 0, \"ticks\": \"\"}}, \"type\": \"scatter3d\"}], \"scattercarpet\": [{\"marker\": {\"colorbar\": {\"outlinewidth\": 0, \"ticks\": \"\"}}, \"type\": \"scattercarpet\"}], \"scattergeo\": [{\"marker\": {\"colorbar\": {\"outlinewidth\": 0, \"ticks\": \"\"}}, \"type\": \"scattergeo\"}], \"scattergl\": [{\"marker\": {\"colorbar\": {\"outlinewidth\": 0, \"ticks\": \"\"}}, \"type\": \"scattergl\"}], \"scattermapbox\": [{\"marker\": {\"colorbar\": {\"outlinewidth\": 0, \"ticks\": \"\"}}, \"type\": \"scattermapbox\"}], \"scatterpolar\": [{\"marker\": {\"colorbar\": {\"outlinewidth\": 0, \"ticks\": \"\"}}, \"type\": \"scatterpolar\"}], \"scatterpolargl\": [{\"marker\": {\"colorbar\": {\"outlinewidth\": 0, \"ticks\": \"\"}}, \"type\": \"scatterpolargl\"}], \"scatterternary\": [{\"marker\": {\"colorbar\": {\"outlinewidth\": 0, \"ticks\": \"\"}}, \"type\": \"scatterternary\"}], \"surface\": [{\"colorbar\": {\"outlinewidth\": 0, \"ticks\": \"\"}, \"colorscale\": [[0.0, \"#0d0887\"], [0.1111111111111111, \"#46039f\"], [0.2222222222222222, \"#7201a8\"], [0.3333333333333333, \"#9c179e\"], [0.4444444444444444, \"#bd3786\"], [0.5555555555555556, \"#d8576b\"], [0.6666666666666666, \"#ed7953\"], [0.7777777777777778, \"#fb9f3a\"], [0.8888888888888888, \"#fdca26\"], [1.0, \"#f0f921\"]], \"type\": \"surface\"}], \"table\": [{\"cells\": {\"fill\": {\"color\": \"#EBF0F8\"}, \"line\": {\"color\": \"white\"}}, \"header\": {\"fill\": {\"color\": \"#C8D4E3\"}, \"line\": {\"color\": \"white\"}}, \"type\": \"table\"}]}, \"layout\": {\"annotationdefaults\": {\"arrowcolor\": \"#2a3f5f\", \"arrowhead\": 0, \"arrowwidth\": 1}, \"autotypenumbers\": \"strict\", \"coloraxis\": {\"colorbar\": {\"outlinewidth\": 0, \"ticks\": \"\"}}, \"colorscale\": {\"diverging\": [[0, \"#8e0152\"], [0.1, \"#c51b7d\"], [0.2, \"#de77ae\"], [0.3, \"#f1b6da\"], [0.4, \"#fde0ef\"], [0.5, \"#f7f7f7\"], [0.6, \"#e6f5d0\"], [0.7, \"#b8e186\"], [0.8, \"#7fbc41\"], [0.9, \"#4d9221\"], [1, \"#276419\"]], \"sequential\": [[0.0, \"#0d0887\"], [0.1111111111111111, \"#46039f\"], [0.2222222222222222, \"#7201a8\"], [0.3333333333333333, \"#9c179e\"], [0.4444444444444444, \"#bd3786\"], [0.5555555555555556, \"#d8576b\"], [0.6666666666666666, \"#ed7953\"], [0.7777777777777778, \"#fb9f3a\"], [0.8888888888888888, \"#fdca26\"], [1.0, \"#f0f921\"]], \"sequentialminus\": [[0.0, \"#0d0887\"], [0.1111111111111111, \"#46039f\"], [0.2222222222222222, \"#7201a8\"], [0.3333333333333333, \"#9c179e\"], [0.4444444444444444, \"#bd3786\"], [0.5555555555555556, \"#d8576b\"], [0.6666666666666666, \"#ed7953\"], [0.7777777777777778, \"#fb9f3a\"], [0.8888888888888888, \"#fdca26\"], [1.0, \"#f0f921\"]]}, \"colorway\": [\"#636efa\", \"#EF553B\", \"#00cc96\", \"#ab63fa\", \"#FFA15A\", \"#19d3f3\", \"#FF6692\", \"#B6E880\", \"#FF97FF\", \"#FECB52\"], \"font\": {\"color\": \"#2a3f5f\"}, \"geo\": {\"bgcolor\": \"white\", \"lakecolor\": \"white\", \"landcolor\": \"#E5ECF6\", \"showlakes\": true, \"showland\": true, \"subunitcolor\": \"white\"}, \"hoverlabel\": {\"align\": \"left\"}, \"hovermode\": \"closest\", \"mapbox\": {\"style\": \"light\"}, \"paper_bgcolor\": \"white\", \"plot_bgcolor\": \"#E5ECF6\", \"polar\": {\"angularaxis\": {\"gridcolor\": \"white\", \"linecolor\": \"white\", \"ticks\": \"\"}, \"bgcolor\": \"#E5ECF6\", \"radialaxis\": {\"gridcolor\": \"white\", \"linecolor\": \"white\", \"ticks\": \"\"}}, \"scene\": {\"xaxis\": {\"backgroundcolor\": \"#E5ECF6\", \"gridcolor\": \"white\", \"gridwidth\": 2, \"linecolor\": \"white\", \"showbackground\": true, \"ticks\": \"\", \"zerolinecolor\": \"white\"}, \"yaxis\": {\"backgroundcolor\": \"#E5ECF6\", \"gridcolor\": \"white\", \"gridwidth\": 2, \"linecolor\": \"white\", \"showbackground\": true, \"ticks\": \"\", \"zerolinecolor\": \"white\"}, \"zaxis\": {\"backgroundcolor\": \"#E5ECF6\", \"gridcolor\": \"white\", \"gridwidth\": 2, \"linecolor\": \"white\", \"showbackground\": true, \"ticks\": \"\", \"zerolinecolor\": \"white\"}}, \"shapedefaults\": {\"line\": {\"color\": \"#2a3f5f\"}}, \"ternary\": {\"aaxis\": {\"gridcolor\": \"white\", \"linecolor\": \"white\", \"ticks\": \"\"}, \"baxis\": {\"gridcolor\": \"white\", \"linecolor\": \"white\", \"ticks\": \"\"}, \"bgcolor\": \"#E5ECF6\", \"caxis\": {\"gridcolor\": \"white\", \"linecolor\": \"white\", \"ticks\": \"\"}}, \"title\": {\"x\": 0.05}, \"xaxis\": {\"automargin\": true, \"gridcolor\": \"white\", \"linecolor\": \"white\", \"ticks\": \"\", \"title\": {\"standoff\": 15}, \"zerolinecolor\": \"white\", \"zerolinewidth\": 2}, \"yaxis\": {\"automargin\": true, \"gridcolor\": \"white\", \"linecolor\": \"white\", \"ticks\": \"\", \"title\": {\"standoff\": 15}, \"zerolinecolor\": \"white\", \"zerolinewidth\": 2}}}, \"xaxis\": {\"anchor\": \"y\", \"domain\": [0.0, 1.0], \"title\": {\"text\": \"Country name\"}}, \"yaxis\": {\"anchor\": \"x\", \"domain\": [0.0, 1.0], \"title\": {\"text\": \"Ladder score 2020\"}}},                        {\"responsive\": true}                    ).then(function(){\n",
       "                            \n",
       "var gd = document.getElementById('81e356da-a80c-4ed8-adb4-721a9ccfb037');\n",
       "var x = new MutationObserver(function (mutations, observer) {{\n",
       "        var display = window.getComputedStyle(gd).display;\n",
       "        if (!display || display === 'none') {{\n",
       "            console.log([gd, 'removed!']);\n",
       "            Plotly.purge(gd);\n",
       "            observer.disconnect();\n",
       "        }}\n",
       "}});\n",
       "\n",
       "// Listen for the removal of the full notebook cells\n",
       "var notebookContainer = gd.closest('#notebook-container');\n",
       "if (notebookContainer) {{\n",
       "    x.observe(notebookContainer, {childList: true});\n",
       "}}\n",
       "\n",
       "// Listen for the clearing of the current output cell\n",
       "var outputEl = gd.closest('.output');\n",
       "if (outputEl) {{\n",
       "    x.observe(outputEl, {childList: true});\n",
       "}}\n",
       "\n",
       "                        })                };                });            </script>        </div>"
      ]
     },
     "metadata": {},
     "output_type": "display_data"
    }
   ],
   "source": [
    "fig.show()"
   ]
  },
  {
   "cell_type": "code",
   "execution_count": 10,
   "id": "geographic-percentage",
   "metadata": {},
   "outputs": [],
   "source": [
    "\"\"\"\n",
    "This app creates a simple sidebar layout using inline style arguments and the\n",
    "dbc.Nav component.\n",
    "\n",
    "dcc.Location is used to track the current location, and a callback uses the\n",
    "current location to render the appropriate page content. The active prop of\n",
    "each NavLink is set automatically according to the current pathname. To use\n",
    "this feature you must install dash-bootstrap-components >= 0.11.0.\n",
    "\n",
    "For more details on building multi-page Dash applications, check out the Dash\n",
    "documentation: https://dash.plot.ly/urls\n",
    "\"\"\"\n",
    "\n",
    "\n",
    "app = dash.Dash(external_stylesheets=[dbc.themes.BOOTSTRAP])\n",
    "\n",
    "# the style arguments for the sidebar. We use position:fixed and a fixed width\n",
    "SIDEBAR_STYLE = {\n",
    "    \"position\": \"fixed\",\n",
    "    \"top\": 0,\n",
    "    \"left\": 0,\n",
    "    \"bottom\": 0,\n",
    "    \"width\": \"16rem\",\n",
    "    \"padding\": \"2rem 1rem\",\n",
    "    \"background-color\": \"#f8f9fa\",\n",
    "}\n",
    "\n",
    "# the styles for the main content position it to the right of the sidebar and\n",
    "# add some padding.\n",
    "CONTENT_STYLE = {\n",
    "    \"margin-left\": \"18rem\",\n",
    "    \"margin-right\": \"2rem\",\n",
    "    \"padding\": \"2rem 1rem\",\n",
    "}\n",
    "\n",
    "sidebar = html.Div(\n",
    "    [\n",
    "        html.H2(\"Sidebar\", className=\"display-4\"),\n",
    "        html.Hr(),\n",
    "        html.P(\n",
    "            \"A simple sidebar layout with navigation links\", className=\"lead\"\n",
    "        ),\n",
    "        dbc.Nav(\n",
    "            [\n",
    "                dbc.NavLink(\"Home\", href=\"/\", active=\"exact\"),\n",
    "                dbc.NavLink(\"Page 1\", href=\"/page-1\", active=\"exact\"),\n",
    "                dbc.NavLink(\"Page 2\", href=\"/page-2\", active=\"exact\"),\n",
    "            ],\n",
    "            vertical=True,\n",
    "            pills=True,\n",
    "        ),\n",
    "    ],\n",
    "    style=SIDEBAR_STYLE,\n",
    ")\n",
    "\n",
    "content = html.Div(id=\"page-content\", style=CONTENT_STYLE)\n",
    "\n",
    "app.layout = html.Div([dcc.Location(id=\"url\"), sidebar, content])\n",
    "\n",
    "\n",
    "@app.callback(Output(\"page-content\", \"children\"), [Input(\"url\", \"pathname\")])\n",
    "def render_page_content(pathname):\n",
    "    if pathname == \"/\":\n",
    "        return [\n",
    "            html.P(\"This is the content of the home page!\"),\n",
    "            dcc.Graph(id='scattergraph', figure=fig)]\n",
    "    \n",
    "    elif pathname == \"/page-1\":\n",
    "        return html.P(\"This is the content of page 1. Yay!\")\n",
    "    elif pathname == \"/page-2\":\n",
    "        return html.P(\"Oh cool, this is page 2!\")\n",
    "    # If the user tries to reach a different page, return a 404 message\n",
    "    return dbc.Jumbotron(\n",
    "        [\n",
    "            html.H1(\"404: Not found\", className=\"text-danger\"),\n",
    "            html.Hr(),\n",
    "            html.P(f\"The pathname {pathname} was not recognised...\"),\n",
    "        ]\n",
    "    )\n"
   ]
  },
  {
   "cell_type": "code",
   "execution_count": null,
   "id": "combined-stable",
   "metadata": {},
   "outputs": [
    {
     "name": "stdout",
     "output_type": "stream",
     "text": [
      "Dash is running on http://127.0.0.1:8899/\n",
      "\n",
      "Dash is running on http://127.0.0.1:8899/\n",
      "\n",
      " * Serving Flask app \"__main__\" (lazy loading)\n",
      " * Environment: production\n",
      "\u001B[31m   WARNING: This is a development server. Do not use it in a production deployment.\u001B[0m\n",
      "\u001B[2m   Use a production WSGI server instead.\u001B[0m\n",
      " * Debug mode: off\n"
     ]
    },
    {
     "name": "stderr",
     "output_type": "stream",
     "text": [
      " * Running on http://127.0.0.1:8899/ (Press CTRL+C to quit)\n",
      "127.0.0.1 - - [31/Jan/2021 12:30:39] \"\u001B[37mGET / HTTP/1.1\u001B[0m\" 200 -\n",
      "127.0.0.1 - - [31/Jan/2021 12:30:39] \"\u001B[37mGET /_dash-layout HTTP/1.1\u001B[0m\" 200 -\n",
      "127.0.0.1 - - [31/Jan/2021 12:30:39] \"\u001B[37mGET /_dash-dependencies HTTP/1.1\u001B[0m\" 200 -\n",
      "127.0.0.1 - - [31/Jan/2021 12:30:39] \"\u001B[37mPOST /_dash-update-component HTTP/1.1\u001B[0m\" 200 -\n"
     ]
    }
   ],
   "source": [
    "#Run app\n",
    "if __name__ == \"__main__\":\n",
    "    app.run_server(port=8899)"
   ]
  },
  {
   "cell_type": "code",
   "execution_count": null,
   "id": "tender-rainbow",
   "metadata": {},
   "outputs": [],
   "source": []
  },
  {
   "cell_type": "code",
   "execution_count": null,
   "id": "instant-resident",
   "metadata": {},
   "outputs": [],
   "source": []
  },
  {
   "cell_type": "code",
   "execution_count": null,
   "id": "separate-stocks",
   "metadata": {},
   "outputs": [],
   "source": []
  },
  {
   "cell_type": "code",
   "execution_count": null,
   "id": "still-reunion",
   "metadata": {},
   "outputs": [],
   "source": []
  },
  {
   "cell_type": "code",
   "execution_count": null,
   "id": "thousand-timothy",
   "metadata": {},
   "outputs": [],
   "source": []
  }
 ],
 "metadata": {
  "kernelspec": {
   "display_name": "Python 3",
   "language": "python",
   "name": "python3"
  },
  "language_info": {
   "codemirror_mode": {
    "name": "ipython",
    "version": 3
   },
   "file_extension": ".py",
   "mimetype": "text/x-python",
   "name": "python",
   "nbconvert_exporter": "python",
   "pygments_lexer": "ipython3",
   "version": "3.8.5"
  }
 },
 "nbformat": 4,
 "nbformat_minor": 5
}